{
 "cells": [
  {
   "cell_type": "markdown",
   "metadata": {},
   "source": [
    "# Anime Recommendation System\n",
    "#### Alejandra Avitia-Davila, Crystal Feng, Simon Chau, and Tyler Lafond\n",
    "### Project Objective:\n",
    "**The purpose of this anime recommendation system is to provide a way for people to find anime that they would be interested in based on their tastes in anime. Since it can be difficult to find new shows to watch, having a system that recommends anime for others would solve the problem of finding something new to watch.**"
   ]
  },
  {
   "cell_type": "markdown",
   "metadata": {},
   "source": [
    "### Cleaning Data:\n",
    "Our data was taken from: https://www.kaggle.com/marlesson/myanimelist-dataset-animes-profiles-reviews/version/1?select=profiles.csv. The data sets that we used for our recommendation system are anime.csv and profiles.csv. \n",
    "\t\n",
    "“anime.csv” contains a list of different animes. It contains information on the anime’s title, synopsis, genre, air date, number of episodes, the number of members on myanimelist who had this anime in their list, its popularity, ranking, and score. To clean the data, we only kept the columns that are listed below. We then saved our cleaned data onto a new dataset called “clean_animes.csv”. \n",
    "- uid: The special ID given to the anime\n",
    "- title: The title of the anime\n",
    "- genre: A list of genres for the given anime\n",
    "- popularity: The popularity rank of the anime on myanimelist\n",
    "- ranked: The score rank of the anime on myanimelist\n",
    "- score: The score for the given anime on myanimelist\n",
    "\n",
    "“profiles.csv” contains information about users on myanimelist.com who watch anime. This data set contains information on the user’s username, gender, birthday, a list of their favorite anime, and a link to their myanimelist profile. To clean this data set we kept the columns that are listed below. We then save our cleaned data onto a new dataset called “clean_profile.csv”.\n",
    "- profile: which is the user’s profile name. \n",
    "- favorites_animes: which holds a list of the user’s favorite anime’s uid."
   ]
  },
  {
   "cell_type": "code",
   "execution_count": 1,
   "metadata": {},
   "outputs": [
    {
     "name": "stdout",
     "output_type": "stream",
     "text": [
      "     uid                             title  \\\n",
      "0  28891           Haikyuu!! Second Season   \n",
      "1  23273           Shigatsu wa Kimi no Uso   \n",
      "2  34599                     Made in Abyss   \n",
      "3   5114  Fullmetal Alchemist: Brotherhood   \n",
      "4  31758  Kizumonogatari III: Reiketsu-hen   \n",
      "\n",
      "                                               genre  popularity  ranked  \\\n",
      "0  ['Comedy', 'Sports', 'Drama', 'School', 'Shoun...         141    25.0   \n",
      "1  ['Drama', 'Music', 'Romance', 'School', 'Shoun...          28    24.0   \n",
      "2  ['Sci-Fi', 'Adventure', 'Mystery', 'Drama', 'F...          98    23.0   \n",
      "3  ['Action', 'Military', 'Adventure', 'Comedy', ...           4     1.0   \n",
      "4   ['Action', 'Mystery', 'Supernatural', 'Vampire']         502    22.0   \n",
      "\n",
      "   score  \n",
      "0   8.82  \n",
      "1   8.83  \n",
      "2   8.83  \n",
      "3   9.23  \n",
      "4   8.83  \n",
      "           profile                                    favorites_anime\n",
      "0   DesolatePsyche  ['33352', '25013', '5530', '33674', '1482', '2...\n",
      "1        baekbeans  ['11061', '31964', '853', '20583', '918', '925...\n",
      "2             skrn  ['918', '2904', '11741', '17074', '23273', '32...\n",
      "3     edgewalker00           ['5680', '849', '2904', '3588', '37349']\n",
      "4  aManOfCulture99  ['4181', '7791', '9617', '5680', '2167', '4382...\n",
      "47902\n"
     ]
    }
   ],
   "source": [
    "import pandas as pd \n",
    "import numpy as np \n",
    "import matplotlib.pyplot as plt\n",
    "from sklearn.model_selection import train_test_split\n",
    "from sklearn.neighbors import KNeighborsClassifier\n",
    "from sklearn.cluster import KMeans\n",
    "from sklearn.metrics import confusion_matrix\n",
    "from sklearn.decomposition import PCA\n",
    "from sklearn.preprocessing import StandardScaler\n",
    "\n",
    "#cleaning data\n",
    "animes_df = pd.read_csv(\"animes.csv\")\n",
    "animes_df = animes_df.drop(columns=['synopsis', 'aired', 'episodes', 'members', 'img_url', 'link']).drop_duplicates()\n",
    "profiles_df = pd.read_csv(\"profiles.csv\")\n",
    "profiles_df = profiles_df.drop(columns = ['gender', 'birthday', 'link']).drop_duplicates()\n",
    "\n",
    "\n",
    "print(animes_df.head())\n",
    "print(profiles_df.head())\n",
    "print(len(profiles_df.index))\n",
    "#profiles_df_2 = profiles_df.head(5)\n",
    "\n",
    "#saving cleaned data into new csv files\n",
    "animes_df.to_csv(\"clean_animes.csv\", index=False)\n",
    "profiles_df.to_csv(\"clean_profiles.csv\", index=False)"
   ]
  },
  {
   "cell_type": "markdown",
   "metadata": {},
   "source": [
    "#### Defining functions:\n",
    "These are some helper functions for our recommendation system to help identify genres of a given anime, the list of favorites from a given profile, and the name of an anime from a given unique id.\n",
    "- genre_list(anime_uid)\n",
    "- anime_list(profile)\n",
    "- anime_name(anime_uid)"
   ]
  },
  {
   "cell_type": "code",
   "execution_count": 2,
   "metadata": {},
   "outputs": [],
   "source": [
    "def genre_list(anime_uid):\n",
    "    if(anime_uid == \"\"): return []\n",
    "    anime_uid = int(anime_uid)\n",
    "    if(len(animes_df.loc[animes_df[\"uid\"] == anime_uid]) == 0): return []\n",
    "    raw_genres = animes_df.loc[animes_df[\"uid\"] == anime_uid][\"genre\"].array[0]\n",
    "    genres = raw_genres.strip(\"][\").replace(\"'\", \"\").split(\", \")\n",
    "    for genre in genres:\n",
    "        genre = genre.replace(\" \", \"\")\n",
    "    return genres\n",
    "\n",
    "#print(genre_list(33352))\n",
    "\n",
    "def anime_list(profile):\n",
    "    if(profile > len(profiles_df.index)) : return []\n",
    "    raw_favorites = profiles_df.iloc[profile][\"favorites_anime\"]\n",
    "    favorites = raw_favorites.strip(\"][\").replace(\"'\", \"\").split(\", \")\n",
    "    for anime in favorites:\n",
    "        anime = anime.replace(\"'\", \"\")\n",
    "    return favorites\n",
    "    \n",
    "#print(anime_list(0))\n",
    "\n",
    "def anime_name(anime_uid):\n",
    "    if(anime_uid == \"\"): return \"\"\n",
    "    anime_uid = int(anime_uid)\n",
    "    if(len(animes_df.loc[animes_df[\"uid\"] == anime_uid]) == 0): return \"\"\n",
    "    return animes_df.loc[animes_df[\"uid\"] == anime_uid][\"title\"].array[0]\n",
    "\n",
    "#print(anime_name(28891))\n",
    "\n",
    "def gen_frequencies(anime_list):\n",
    "    curr_list = []\n",
    "    for anime_uid in anime_list:\n",
    "        uid = anime_uid.replace(\"'\", \"\")\n",
    "        curr_list += genre_list(uid)\n",
    "    num_genres = len(curr_list)\n",
    "    genre_series = pd.Series(curr_list)\n",
    "    genre_frequencies = genre_series.value_counts() / num_genres\n",
    "    return genre_frequencies\n",
    "\n",
    "def age(birthday):\n",
    "    if(len(birthday) > 8):\n",
    "        year_of_birth = int(birthday[-4:])\n",
    "        return 2021-year_of_birth"
   ]
  },
  {
   "cell_type": "markdown",
   "metadata": {},
   "source": [
    "### Computing frequencies for profiles\n",
    "Here we computed the frequencies of how often a genre appeared out of a users list of favorite animes, and stored them into a new csv file for efficiency since this process takes quite a bit of time, given the size of the profiles dataset. These genre-frequencies indicate the genres a specific user tends to enjoy watching, and are the basis for our recommendation system."
   ]
  },
  {
   "cell_type": "code",
   "execution_count": 13,
   "metadata": {},
   "outputs": [],
   "source": [
    "#commented out and saved to csv since this process takes a while\n",
    "\n",
    "#df_profile_freq = pd.DataFrame() #index is same as profile_df_index\n",
    "#for profile in profiles_df.index:\n",
    "#    favorites = anime_list(profile)\n",
    "#    genres = []\n",
    "#    for anime in favorites:\n",
    "#        genres += genre_list(anime)\n",
    "#    genre_series = pd.Series(genres)\n",
    "#    num_genres = len(genres)\n",
    "#    genre_frequencies = genre_series.value_counts() / num_genres\n",
    "#    df_profile_freq = df_profile_freq.append(genre_frequencies, ignore_index=True)\n",
    "#df_profile_freq = df_profile_freq.drop(columns=[\"\"])\n",
    "#df_profile_freq = df_profile_freq.fillna(0)\n",
    "#df_profile_freq.to_csv(\"profile_genres.csv\", index=False)"
   ]
  },
  {
   "cell_type": "markdown",
   "metadata": {},
   "source": [
    "### EDA\n",
    "In the following section, we explored the popularity of genres in general, as well as with respect to a specific gender of anime watchers. Additionally, we explored the distribution of ages within our profiles data in order to see the average age, as well as the oldest age."
   ]
  },
  {
   "cell_type": "code",
   "execution_count": 4,
   "metadata": {
    "scrolled": false
   },
   "outputs": [
    {
     "data": {
      "image/png": "[encoded data removed]",
      "text/plain": [
       "<Figure size 720x720 with 1 Axes>"
      ]
     },
     "metadata": {
      "needs_background": "light"
     },
     "output_type": "display_data"
    },
    {
     "name": "stdout",
     "output_type": "stream",
     "text": [
      "The 5 most popular anime genres are: Comedy, Action, Drama, Shounen, and Supernatural\n"
     ]
    }
   ],
   "source": [
    "df_freq = pd.read_csv(\"profile_genres.csv\")\n",
    "genres = df_freq.columns\n",
    "sums=[]\n",
    "for genre in genres:\n",
    "    curr = df_freq[genre].sum()\n",
    "    sums.append(curr)\n",
    "\n",
    "plt.figure(figsize=(10,10))\n",
    "plt.barh(genres, sums)\n",
    "plt.ylabel(\"Genres\")\n",
    "plt.xlabel(\"Popularity\")\n",
    "plt.title(\"Popularity of each Genre\")\n",
    "plt.show()\n",
    "\n",
    "print(\"The 5 most popular anime genres are: Comedy, Action, Drama, Shounen, and Supernatural\")"
   ]
  },
  {
   "cell_type": "code",
   "execution_count": 27,
   "metadata": {
    "scrolled": false
   },
   "outputs": [
    {
     "data": {
      "image/png": "[encoded data removed]",
      "text/plain": [
       "<Figure size 720x720 with 1 Axes>"
      ]
     },
     "metadata": {
      "needs_background": "light"
     },
     "output_type": "display_data"
    },
    {
     "name": "stdout",
     "output_type": "stream",
     "text": [
      "The max age of profiles is 91 years old\n",
      "The average age of users is around 27 years old\n"
     ]
    }
   ],
   "source": [
    "raw_profile_df = pd.read_csv(\"profiles.csv\")\n",
    "raw_profile_df = raw_profile_df[\"birthday\"].dropna()\n",
    "birthdays = []\n",
    "for row in raw_profile_df.index:\n",
    "    if(type(age(raw_profile_df[row])) is not 'NoneType'):\n",
    "        birthdays.append(age(raw_profile_df[row]))\n",
    "birthdays = [i for i in birthdays if i]\n",
    "\n",
    "birthday_series = pd.Series(birthdays)\n",
    "birthday_series = birthday_series.value_counts()\n",
    "\n",
    "plt.figure(figsize=(10,10))\n",
    "plt.bar(birthday_series.index, birthday_series)\n",
    "plt.xlabel(\"Age\")\n",
    "plt.ylabel(\"Count\")\n",
    "plt.title(\"Age Distribution\")\n",
    "plt.show()\n",
    "\n",
    "oldest = max(birthdays)\n",
    "avg = sum(birthdays) / len(birthdays)\n",
    "\n",
    "print(\"The max age of profiles is\", oldest, \"years old\")\n",
    "print(\"The average age of users is around\", int(avg), \"years old\")"
   ]
  },
  {
   "cell_type": "code",
   "execution_count": 28,
   "metadata": {},
   "outputs": [
    {
     "data": {
      "text/plain": [
       "<matplotlib.axes._subplots.AxesSubplot at 0x7f90eff3b950>"
      ]
     },
     "execution_count": 28,
     "metadata": {},
     "output_type": "execute_result"
    },
    {
     "data": {
      "image/png": "[encoded data removed]",
      "text/plain": [
       "<Figure size 720x360 with 1 Axes>"
      ]
     },
     "metadata": {
      "needs_background": "light"
     },
     "output_type": "display_data"
    },
    {
     "data": {
      "image/png": "[encoded data removed]",
      "text/plain": [
       "<Figure size 720x360 with 1 Axes>"
      ]
     },
     "metadata": {
      "needs_background": "light"
     },
     "output_type": "display_data"
    },
    {
     "data": {
      "image/png": "[encoded data removed]",
      "text/plain": [
       "<Figure size 720x360 with 1 Axes>"
      ]
     },
     "metadata": {
      "needs_background": "light"
     },
     "output_type": "display_data"
    }
   ],
   "source": [
    "df_g = pd.read_csv(\"profile_genres.csv\")\n",
    "df_g[\"Gender\"] = pd.read_csv(\"profiles.csv\")[\"gender\"]\n",
    "df_f = df_g.loc[df_g['Gender'] == \"Female\"]\n",
    "testf = df_f.groupby(\"Gender\")[genres].sum() ## sum the squares\n",
    "testf.plot.barh(figsize=(10, 5),width=3,legend=False)\n",
    "\n",
    "df_m = df_g.loc[df_g['Gender'] == \"Male\"]\n",
    "testf = df_m.groupby(\"Gender\")[genres].sum() ## sum the squares\n",
    "testf.plot.barh(figsize=(10, 5),width=3,legend=False)\n",
    "\n",
    "df_n = df_g.loc[df_g['Gender'] == \"Non-Binary\"]\n",
    "testf = df_n.groupby(\"Gender\")[genres].sum() ## sum the squares\n",
    "testf.plot.barh(figsize=(10, 5),width=3,legend=False)"
   ]
  },
  {
   "cell_type": "markdown",
   "metadata": {},
   "source": [
    "### PCA Decomposition on profile genre frequencies\n",
    "When looking at our data, we wanted to reduce the dimensional space of our data’s features to have better visualization. To accomplish this we performed a principal component analysis with 5 principal components on our frequency data frame. To make sure we were not losing too much variance from our original data we checked the combined explained variance ratio from each component of the PCA which was 61.9%, which means we still have 61.9% of our original data. We based the rest of the project on these new dimensions. "
   ]
  },
  {
   "cell_type": "code",
   "execution_count": 6,
   "metadata": {},
   "outputs": [
    {
     "name": "stdout",
     "output_type": "stream",
     "text": [
      "Explained variation per principal component: [0.30673005 0.11921416 0.08733801 0.05529435 0.05119774]\n",
      "Cumulative variance explained by 5 principal components:  0.6197743146812288\n"
     ]
    }
   ],
   "source": [
    "pca = PCA(n_components=5)\n",
    "pca_result = pca.fit_transform(df_freq)\n",
    "print(\"Explained variation per principal component:\", pca.explained_variance_ratio_)\n",
    "cumulative_variance = sum(pca.explained_variance_ratio_) \n",
    "print('Cumulative variance explained by 5 principal components: ', cumulative_variance)"
   ]
  },
  {
   "cell_type": "markdown",
   "metadata": {},
   "source": [
    "### Using Elbow Method with WCSS to determine optimal k-value and Implementing our K-Means Clustering model"
   ]
  },
  {
   "cell_type": "code",
   "execution_count": 7,
   "metadata": {},
   "outputs": [
    {
     "data": {
      "image/png": "[encoded data removed]",
      "text/plain": [
       "<Figure size 720x720 with 1 Axes>"
      ]
     },
     "metadata": {
      "needs_background": "light"
     },
     "output_type": "display_data"
    }
   ],
   "source": [
    "wcss = []\n",
    "for i in range(1, 26):\n",
    "    k_means = KMeans(n_clusters=i, init='k-means++', random_state=20)\n",
    "    k_means.fit(pca_result)\n",
    "    wcss.append(k_means.inertia_)\n",
    "\n",
    "    \n",
    "plt.figure(figsize=(10,10))\n",
    "plt.plot(range(1,26), wcss, marker=\"o\", linestyle='--')\n",
    "plt.xlabel(\"Number of clusters\")\n",
    "plt.ylabel(\"WCSS\")\n",
    "plt.title(\"WCSS vs K\")\n",
    "plt.show()"
   ]
  },
  {
   "cell_type": "code",
   "execution_count": 8,
   "metadata": {},
   "outputs": [],
   "source": [
    "optimal_k = 5\n",
    "final_k_means = KMeans(n_clusters = optimal_k, init = \"k-means++\", random_state=20)\n",
    "final_k_means.fit(pca_result)\n",
    "df_pca_kmeans = pd.concat([profiles_df.reset_index(drop=True), pd.DataFrame(pca_result)], axis=1)\n",
    "df_pca_kmeans.columns.values[-5:] = [\"Component 1\", \"Component 2\", \"Component 3\", \"Component 4\", \"Component 5\"]\n",
    "df_pca_kmeans[\"Cluster\"] = final_k_means.labels_\n",
    "mapping = {0:'first', 1:\"second\", 2:\"third\", 3:\"fourth\", 4:\"fifth\"}\n",
    "df_pca_kmeans[\"Cluster\"] = df_pca_kmeans[\"Cluster\"].map(mapping)\n",
    "\n",
    "df_freq[\"Cluster\"] = final_k_means.labels_\n",
    "df_freq[\"Cluster\"] = df_freq[\"Cluster\"].map(mapping)"
   ]
  },
  {
   "cell_type": "code",
   "execution_count": 9,
   "metadata": {},
   "outputs": [
    {
     "name": "stdout",
     "output_type": "stream",
     "text": [
      "     Action  Adventure    Comedy    Demons     Drama   Fantasy      Game  \\\n",
      "0  0.078431   0.078431  0.088235  0.009804  0.088235  0.049020  0.009804   \n",
      "1  0.106383   0.042553  0.127660  0.000000  0.042553  0.063830  0.000000   \n",
      "2  0.063830   0.021277  0.063830  0.000000  0.106383  0.063830  0.000000   \n",
      "3  0.125000   0.041667  0.125000  0.000000  0.041667  0.083333  0.000000   \n",
      "4  0.000000   0.020833  0.166667  0.000000  0.083333  0.000000  0.041667   \n",
      "\n",
      "      Harem  Historical    Horror  ...  Ecchi  Kids  Space  Shoujo Ai  Yaoi  \\\n",
      "0  0.009804    0.019608  0.019608  ...    0.0   0.0    0.0        0.0   0.0   \n",
      "1  0.021277    0.021277  0.000000  ...    0.0   0.0    0.0        0.0   0.0   \n",
      "2  0.000000    0.021277  0.021277  ...    0.0   0.0    0.0        0.0   0.0   \n",
      "3  0.000000    0.000000  0.000000  ...    0.0   0.0    0.0        0.0   0.0   \n",
      "4  0.000000    0.000000  0.000000  ...    0.0   0.0    0.0        0.0   0.0   \n",
      "\n",
      "   Shounen Ai  Cars  Hentai  Yuri  Cluster  \n",
      "0         0.0   0.0     0.0   0.0    third  \n",
      "1         0.0   0.0     0.0   0.0    first  \n",
      "2         0.0   0.0     0.0   0.0    third  \n",
      "3         0.0   0.0     0.0   0.0    first  \n",
      "4         0.0   0.0     0.0   0.0    fifth  \n",
      "\n",
      "[5 rows x 44 columns]\n"
     ]
    }
   ],
   "source": [
    "#print(df_pca_kmeans.head())\n",
    "print(df_freq.head())\n",
    "third_cluster = df_freq.loc[df_freq[\"Cluster\"] == 'third']"
   ]
  },
  {
   "cell_type": "markdown",
   "metadata": {},
   "source": [
    "### Using KNN to classify new users into a cluster"
   ]
  },
  {
   "cell_type": "code",
   "execution_count": 10,
   "metadata": {},
   "outputs": [
    {
     "name": "stdout",
     "output_type": "stream",
     "text": [
      "              precision    recall  f1-score   support\n",
      "\n",
      "       fifth       0.97      0.96      0.97      2683\n",
      "       first       0.96      0.98      0.97      3624\n",
      "      fourth       0.97      0.95      0.96      2128\n",
      "      second       1.00      1.00      1.00      8223\n",
      "       third       0.96      0.95      0.95      2503\n",
      "\n",
      "    accuracy                           0.98     19161\n",
      "   macro avg       0.97      0.97      0.97     19161\n",
      "weighted avg       0.98      0.98      0.98     19161\n",
      "\n",
      "[[2581   46   10    0   46]\n",
      " [  13 3569   22    0   20]\n",
      " [  28   54 2015    0   31]\n",
      " [   2    3    0 8212    6]\n",
      " [  29   63   31    0 2380]]\n"
     ]
    },
    {
     "data": {
      "image/png": "[encoded data removed]",
      "text/plain": [
       "<Figure size 432x288 with 1 Axes>"
      ]
     },
     "metadata": {
      "needs_background": "light"
     },
     "output_type": "display_data"
    }
   ],
   "source": [
    "scaler = StandardScaler()\n",
    "scaler.fit(df_pca_kmeans.drop(columns=['Cluster', 'profile', 'favorites_anime'], axis = 1))\n",
    "scaled_features = scaler.transform(df_pca_kmeans.drop(columns=['Cluster', 'profile', 'favorites_anime'], axis = 1))\n",
    "scaled_data = pd.DataFrame(scaled_features, columns = df_pca_kmeans.drop(columns=['Cluster', 'profile', 'favorites_anime'], axis = 1).columns)\n",
    "scaled_data.head()\n",
    "from sklearn.model_selection import train_test_split\n",
    "x = scaled_data\n",
    "y = df_pca_kmeans['Cluster']\n",
    "x_training_data, x_test_data, y_training_data, y_test_data = train_test_split(x, y, test_size = 0.4)\n",
    "from sklearn.neighbors import KNeighborsClassifier\n",
    "import matplotlib.pyplot as plt\n",
    "model = KNeighborsClassifier(n_neighbors = 13)\n",
    "model.fit(x_training_data, y_training_data)\n",
    "predictions = model.predict(x_test_data)\n",
    "error_rates = []\n",
    "for i in np.arange(1, 20):\n",
    "    new_model = KNeighborsClassifier(n_neighbors = i)\n",
    "    new_model.fit(x_training_data, y_training_data)\n",
    "    new_predictions = new_model.predict(x_test_data)\n",
    "    error_rates.append(np.mean(new_predictions != y_test_data))\n",
    "%matplotlib inline\n",
    "plt.plot(error_rates)\n",
    "from sklearn.metrics import classification_report\n",
    "from sklearn.metrics import confusion_matrix\n",
    "print(classification_report(y_test_data, predictions))\n",
    "print(confusion_matrix(y_test_data, predictions))"
   ]
  },
  {
   "cell_type": "markdown",
   "metadata": {},
   "source": [
    "## Finding Recommendations "
   ]
  },
  {
   "cell_type": "code",
   "execution_count": 11,
   "metadata": {},
   "outputs": [
    {
     "ename": "ModuleNotFoundError",
     "evalue": "No module named 'numpy.core._multiarray_umath'",
     "output_type": "error",
     "traceback": [
      "\u001b[0;31m---------------------------------------------------------------------------\u001b[0m",
      "\u001b[0;31mModuleNotFoundError\u001b[0m                       Traceback (most recent call last)",
      "\u001b[0;31mModuleNotFoundError\u001b[0m: No module named 'numpy.core._multiarray_umath'"
     ]
    }
   ],
   "source": [
    "#input users' favorite animes\n",
    "user1 = ['37510', '38000', '30276', '552', '32998'] #action, shounen\n",
    "user2 = ['1735', '813', '11757', '31964', '32281'] #action, fantasy, shounen, romance\n",
    "user3 = ['5114', '1535', '2167', '22319', '120'] #fantasy, romance, military, mystery, horror, comedy\n",
    "\n",
    "#maintaining size of input with model input\n",
    "new_df_3 = df_freq.append(gen_frequencies(user1), ignore_index=True)\n",
    "new_df_3 = new_df_3.append(gen_frequencies(user2), ignore_index=True)\n",
    "new_df_3 = new_df_3.append(gen_frequencies(user3), ignore_index=True)\n",
    "#cleaning new input data to work with model\n",
    "new_df_3 = new_df_3.fillna(0)\n",
    "new_df_3 = new_df_3.drop(columns=['Cluster'], axis=1)\n",
    "new_df_3 = new_df_3.drop(new_df_3.index[:-3])\n",
    "#print(new_df_3)\n",
    "new_users_result = pca.transform(new_df_3)\n",
    "#using knn model to classify new users into predefined clusters\n",
    "out = list(model.predict(new_users_result))\n",
    "#print(out)\n",
    "\n",
    "#original profiles of respective clusters of input users\n",
    "cluster_1 = df_freq.loc[df_freq[\"Cluster\"] == out[0]]\n",
    "cluster_2 = df_freq.loc[df_freq[\"Cluster\"] == out[1]]\n",
    "cluster_3 = df_freq.loc[df_freq[\"Cluster\"] == out[2]]\n",
    "\n",
    "#user 1:\n",
    "dist1 = cluster_1.drop(\"Cluster\", axis=1).sub(new_df_3.iloc[0], axis=1).pow(2).sum(axis=1).pow(.5)\n",
    "#user 2:\n",
    "dist2 = cluster_2.drop(\"Cluster\", axis=1).sub(new_df_3.iloc[1], axis=1).pow(2).sum(axis=1).pow(.5)\n",
    "#user 3:\n",
    "dist3 = cluster_3.drop(\"Cluster\", axis=1).sub(new_df_3.iloc[2], axis=1).pow(2).sum(axis=1).pow(.5)\n",
    "\n",
    "#5 closest neighbors of users:\n",
    "neighbors_1 = dist1.nsmallest(5).index\n",
    "neighbors_2 = dist2.nsmallest(5).index\n",
    "neighbors_3 = dist3.nsmallest(5).index"
   ]
  },
  {
   "cell_type": "code",
   "execution_count": 12,
   "metadata": {},
   "outputs": [
    {
     "name": "stdout",
     "output_type": "stream",
     "text": [
      "User 1's recommendations: ['Mononoke Hime', 'Fate/Zero 2nd Season', 'Mob Psycho 100', 'Gintama Movie 2: Kanketsu-hen - Yorozuya yo Eien Nare', 'Gintama°', 'One Piece', 'Baccano!', 'Tengen Toppa Gurren Lagann', 'Fate/Zero', 'Toradora!', 'Yuu☆Yuu☆Hakusho', 'Hunter x Hunter (2011)', 'Code Geass: Hangyaku no Lelouch', 'Cowboy Bebop', 'Black Lagoon', 'Gintama', 'Durarara!!', 'Kaze Tachinu', 'Noragami', 'Black Lagoon: The Second Barrage', 'Samurai Champloo', 'Baccano! Specials', 'Gankutsuou'] \n",
      "\n",
      "User 2's recommendations: ['Hunter x Hunter (2011)', 'Shingeki no Kyojin', 'Naruto', 'Akatsuki no Yona', 'Haikyuu!!', 'Ore Monogatari!!', 'Ansatsu Kyoushitsu 2nd Season', 'One Punch Man', 'One Piece', 'Shokugeki no Souma', 'No Game No Life', 'Boruto: Naruto Next Generations', 'Fairy Tail', 'Toradora!', 'Accel World', 'Bleach', 'Fairy Tail Movie 2: Dragon Cry', 'Koukyoushihen Eureka Seven', 'Soul Eater', 'Medaka Box'] \n",
      "\n",
      "User 3's recommendations: ['Banana Fish', 'Zetsuen no Tempest', 'Seishun Buta Yarou wa Bunny Girl Senpai no Yume wo Minai', 'Grand Blue', 'Kaze ga Tsuyoku Fuiteiru', 'Wotaku ni Koi wa Muzukashii', 'Fruits Basket 1st Season', 'Satsuriku no Tenshi', 'Noragami', 'Shingeki no Kyojin', 'Fairy Tail', 'Mirai Nikki', 'Elfen Lied', 'Clannad: After Story', 'Dragon Ball Z', 'Boku dake ga Inai Machi', 'Sakura-sou no Pet na Kanojo', 'Owari no Seraph', 'Nanatsu no Taizai', 'Tonari no Kaibutsu-kun', 'Megalo Box', 'Gintama°', 'Hyouka', 'Angel Beats!', 'Hunter x Hunter (2011)', 'Baccano!', 'Steins;Gate', 'Chuunibyou demo Koi ga Shitai!', 'Yuu☆Yuu☆Hakusho', 'Claymore', 'Hachimitsu to Clover', 'Yahari Ore no Seishun Love Comedy wa Machigatteiru.'] \n",
      "\n"
     ]
    }
   ],
   "source": [
    "#user 1 recommendations:\n",
    "recommendation_1 = []\n",
    "for user in neighbors_1:\n",
    "    current_favorites = profiles_df.iloc[user][\"favorites_anime\"].strip(\"][\").replace(\"'\", \"\").split(\", \")\n",
    "    for i in current_favorites:\n",
    "        if (i not in recommendation_1) and (i not in user1):\n",
    "            recommendation_1.append(i)\n",
    "    \n",
    "for i in range(0, len(recommendation_1)):\n",
    "    recommendation_1[i] = anime_name(recommendation_1[i])\n",
    "    \n",
    "\n",
    "recommendation_2 = []\n",
    "for user in neighbors_2:\n",
    "    current_favorites = profiles_df.iloc[user][\"favorites_anime\"].strip(\"][\").replace(\"'\", \"\").split(\", \")\n",
    "    for i in current_favorites:\n",
    "        if (i not in recommendation_2) and (i not in user2):\n",
    "            recommendation_2.append(i)\n",
    "    \n",
    "for i in range(0, len(recommendation_2)):\n",
    "    recommendation_2[i] = anime_name(recommendation_2[i])\n",
    "    \n",
    "recommendation_3 = []\n",
    "for user in neighbors_3:\n",
    "    current_favorites = profiles_df.iloc[user][\"favorites_anime\"].strip(\"][\").replace(\"'\", \"\").split(\", \")\n",
    "    for i in current_favorites:\n",
    "        if (i not in recommendation_3) and (i not in user3):\n",
    "            recommendation_3.append(i)\n",
    "    \n",
    "for i in range(0, len(recommendation_3)):\n",
    "    recommendation_3[i] = anime_name(recommendation_3[i])\n",
    "    \n",
    "print(\"User 1's recommendations:\", recommendation_1, \"\\n\")\n",
    "print(\"User 2's recommendations:\", recommendation_2, \"\\n\")\n",
    "print(\"User 3's recommendations:\", recommendation_3, \"\\n\")"
   ]
  },
  {
   "cell_type": "code",
   "execution_count": null,
   "metadata": {},
   "outputs": [],
   "source": []
  }
 ],
 "metadata": {
  "kernelspec": {
   "display_name": "Python 3",
   "language": "python",
   "name": "python3"
  },
  "language_info": {
   "codemirror_mode": {
    "name": "ipython",
    "version": 3
   },
   "file_extension": ".py",
   "mimetype": "text/x-python",
   "name": "python",
   "nbconvert_exporter": "python",
   "pygments_lexer": "ipython3",
   "version": "3.7.4"
  }
 },
 "nbformat": 4,
 "nbformat_minor": 4
}
