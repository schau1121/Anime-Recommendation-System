{
 "cells": [
  {
   "cell_type": "markdown",
   "metadata": {},
   "source": [
    "# Anime Recommendation System\n",
    "#### Alejandra Avitia-Davila, Crystal Feng, Simon Chau, and Tyler Lafond"
   ]
  },
  {
   "cell_type": "code",
   "execution_count": 64,
   "metadata": {},
   "outputs": [
    {
     "name": "stdout",
     "output_type": "stream",
     "text": [
      "     uid                             title  \\\n",
      "0  28891           Haikyuu!! Second Season   \n",
      "1  23273           Shigatsu wa Kimi no Uso   \n",
      "2  34599                     Made in Abyss   \n",
      "3   5114  Fullmetal Alchemist: Brotherhood   \n",
      "4  31758  Kizumonogatari III: Reiketsu-hen   \n",
      "\n",
      "                                               genre  popularity  ranked  \\\n",
      "0  ['Comedy', 'Sports', 'Drama', 'School', 'Shoun...         141    25.0   \n",
      "1  ['Drama', 'Music', 'Romance', 'School', 'Shoun...          28    24.0   \n",
      "2  ['Sci-Fi', 'Adventure', 'Mystery', 'Drama', 'F...          98    23.0   \n",
      "3  ['Action', 'Military', 'Adventure', 'Comedy', ...           4     1.0   \n",
      "4   ['Action', 'Mystery', 'Supernatural', 'Vampire']         502    22.0   \n",
      "\n",
      "   score  \n",
      "0   8.82  \n",
      "1   8.83  \n",
      "2   8.83  \n",
      "3   9.23  \n",
      "4   8.83  \n",
      "           profile                                    favorites_anime\n",
      "0   DesolatePsyche  ['33352', '25013', '5530', '33674', '1482', '2...\n",
      "1        baekbeans  ['11061', '31964', '853', '20583', '918', '925...\n",
      "2             skrn  ['918', '2904', '11741', '17074', '23273', '32...\n",
      "3     edgewalker00           ['5680', '849', '2904', '3588', '37349']\n",
      "4  aManOfCulture99  ['4181', '7791', '9617', '5680', '2167', '4382...\n",
      "47902\n"
     ]
    }
   ],
   "source": [
    "import pandas as pd \n",
    "import numpy as np \n",
    "import matplotlib.pyplot as plt\n",
    "from sklearn.model_selection import train_test_split\n",
    "from sklearn.neighbors import KNeighborsClassifier\n",
    "from sklearn.cluster import KMeans\n",
    "from sklearn.metrics import confusion_matrix\n",
    "from sklearn.decomposition import PCA\n",
    "from sklearn.preprocessing import StandardScaler\n",
    "\n",
    "animes_df = pd.read_csv(\"animes.csv\")\n",
    "animes_df = animes_df.drop(columns=['synopsis', 'aired', 'episodes', 'members', 'img_url', 'link']).drop_duplicates()\n",
    "profiles_df = pd.read_csv(\"profiles.csv\")\n",
    "profiles_df = profiles_df.drop(columns = ['gender', 'birthday', 'link']).drop_duplicates()\n",
    "print(animes_df.head())\n",
    "print(profiles_df.head())\n",
    "print(len(profiles_df.index))\n",
    "#profiles_df_2 = profiles_df.head(5)\n",
    "animes_df.to_csv(\"clean_animes.csv\", index=False)\n",
    "profiles_df.to_csv(\"clean_profiles.csv\", index=False)"
   ]
  },
  {
   "cell_type": "markdown",
   "metadata": {},
   "source": [
    "***Defining functions:***\n",
    "- genre_list(anime_uid)\n",
    "- anime_list(profile)"
   ]
  },
  {
   "cell_type": "code",
   "execution_count": 2,
   "metadata": {},
   "outputs": [],
   "source": [
    "def genre_list(anime_uid):\n",
    "    if(anime_uid == \"\"): return []\n",
    "    anime_uid = int(anime_uid)\n",
    "    if(len(animes_df.loc[animes_df[\"uid\"] == anime_uid]) == 0): return []\n",
    "    raw_genres = animes_df.loc[animes_df[\"uid\"] == anime_uid][\"genre\"].array[0]\n",
    "    genres = raw_genres.strip(\"][\").replace(\"'\", \"\").split(\", \")\n",
    "    for genre in genres:\n",
    "        genre = genre.replace(\" \", \"\")\n",
    "    return genres\n",
    "\n",
    "#print(genre_list(33352))\n",
    "\n",
    "def anime_list(profile):\n",
    "    if(profile > len(profiles_df.index)) : return []\n",
    "    raw_favorites = profiles_df.iloc[profile][\"favorites_anime\"]\n",
    "    favorites = raw_favorites.strip(\"][\").replace(\"'\", \"\").split(\", \")\n",
    "    for anime in favorites:\n",
    "        anime = anime.replace(\"'\", \"\")\n",
    "    return favorites\n",
    "    \n",
    "#print(anime_list(0))\n",
    "\n",
    "def anime_name(anime_uid):\n",
    "    if(anime_uid == \"\"): return \"\"\n",
    "    anime_uid = int(anime_uid)\n",
    "    if(len(animes_df.loc[animes_df[\"uid\"] == anime_uid]) == 0): return \"\"\n",
    "    return animes_df.loc[animes_df[\"uid\"] == anime_uid][\"title\"].array[0]\n",
    "\n",
    "#print(anime_name(28891))\n",
    "\n",
    "def gen_frequencies(anime_list):\n",
    "    curr_list = []\n",
    "    for anime_uid in anime_list:\n",
    "        uid = anime_uid.replace(\"'\", \"\")\n",
    "        curr_list += genre_list(uid)\n",
    "    num_genres = len(curr_list)\n",
    "    genre_series = pd.Series(curr_list)\n",
    "    genre_frequencies = genre_series.value_counts() / num_genres\n",
    "    return genre_frequencies"
   ]
  },
  {
   "cell_type": "markdown",
   "metadata": {},
   "source": [
    "### Computing frequencies for profiles"
   ]
  },
  {
   "cell_type": "code",
   "execution_count": null,
   "metadata": {},
   "outputs": [],
   "source": [
    "#commented out and saved to csv since this process takes a while\n",
    "\n",
    "#df_profile_freq = pd.DataFrame() #index is same as profile_df_index\n",
    "#for profile in profiles_df.index:\n",
    "#    favorites = anime_list(profile)\n",
    "#    genres = []\n",
    "#    for anime in favorites:\n",
    "#        genres += genre_list(anime)\n",
    "#    genre_series = pd.Series(genres)\n",
    "#    num_genres = len(genres)\n",
    "#    genre_frequencies = genre_series.value_counts() / num_genres\n",
    "#    df_profile_freq = df_profile_freq.append(genre_frequencies, ignore_index=True)\n",
    "#df_profile_freq = df_profile_freq.drop(columns=[\"\"])\n",
    "#df_profile_freq = df_profile_freq.fillna(0)\n",
    "#df_profile_freq.to_csv(\"profile_genres.csv\", index=False)"
   ]
  },
  {
   "cell_type": "markdown",
   "metadata": {},
   "source": [
    "### EDA"
   ]
  },
  {
   "cell_type": "code",
   "execution_count": 3,
   "metadata": {
    "scrolled": false
   },
   "outputs": [
    {
     "data": {
      "image/png": "[encoded data removed]",
      "text/plain": [
       "<Figure size 720x720 with 1 Axes>"
      ]
     },
     "metadata": {
      "needs_background": "light"
     },
     "output_type": "display_data"
    },
    {
     "name": "stdout",
     "output_type": "stream",
     "text": [
      "The 5 most popular anime genres are: Comedy, Action, Drama, Shounen, and Supernatural\n"
     ]
    }
   ],
   "source": [
    "df_freq = pd.read_csv(\"profile_genres.csv\")\n",
    "genres = df_freq.columns\n",
    "sums=[]\n",
    "for genre in genres:\n",
    "    curr = df_freq[genre].sum()\n",
    "    sums.append(curr)\n",
    "\n",
    "plt.figure(figsize=(10,10))\n",
    "plt.barh(genres, sums)\n",
    "plt.ylabel(\"Genres\")\n",
    "plt.xlabel(\"Popularity\")\n",
    "plt.title(\"Popularity of each Genre\")\n",
    "plt.show()\n",
    "\n",
    "print(\"The 5 most popular anime genres are: Comedy, Action, Drama, Shounen, and Supernatural\")"
   ]
  },
  {
   "cell_type": "code",
   "execution_count": null,
   "metadata": {},
   "outputs": [],
   "source": []
  },
  {
   "cell_type": "markdown",
   "metadata": {},
   "source": [
    "### PCA Decomposition on profile genre frequencies"
   ]
  },
  {
   "cell_type": "code",
   "execution_count": 4,
   "metadata": {},
   "outputs": [
    {
     "name": "stdout",
     "output_type": "stream",
     "text": [
      "Explained variation per principal component: [0.30673005 0.11921416 0.08733801 0.0552943  0.05119796]\n",
      "Cumulative variance explained by 5 principal components:  0.6197744840853427\n"
     ]
    }
   ],
   "source": [
    "pca = PCA(n_components=5)\n",
    "pca_result = pca.fit_transform(df_freq)\n",
    "print(\"Explained variation per principal component:\", pca.explained_variance_ratio_)\n",
    "cumulative_variance = sum(pca.explained_variance_ratio_) \n",
    "print('Cumulative variance explained by 5 principal components: ', cumulative_variance)"
   ]
  },
  {
   "cell_type": "markdown",
   "metadata": {},
   "source": [
    "### Using Elbow Method with WCSS to determine optimal k-value "
   ]
  },
  {
   "cell_type": "code",
   "execution_count": 5,
   "metadata": {},
   "outputs": [
    {
     "data": {
      "image/png": "[encoded data removed]",
      "text/plain": [
       "<Figure size 720x720 with 1 Axes>"
      ]
     },
     "metadata": {
      "needs_background": "light"
     },
     "output_type": "display_data"
    }
   ],
   "source": [
    "wcss = []\n",
    "for i in range(1, 26):\n",
    "    k_means = KMeans(n_clusters=i, init='k-means++', random_state=20)\n",
    "    k_means.fit(pca_result)\n",
    "    wcss.append(k_means.inertia_)\n",
    "\n",
    "    \n",
    "plt.figure(figsize=(10,10))\n",
    "plt.plot(range(1,26), wcss, marker=\"o\", linestyle='--')\n",
    "plt.xlabel(\"Number of clusters\")\n",
    "plt.ylabel(\"WCSS\")\n",
    "plt.title(\"WCSS vs K\")\n",
    "plt.show()"
   ]
  },
  {
   "cell_type": "code",
   "execution_count": 6,
   "metadata": {},
   "outputs": [],
   "source": [
    "optimal_k = 5\n",
    "final_k_means = KMeans(n_clusters = optimal_k, init = \"k-means++\", random_state=20)\n",
    "final_k_means.fit(pca_result)\n",
    "df_pca_kmeans = pd.concat([profiles_df.reset_index(drop=True), pd.DataFrame(pca_result)], axis=1)\n",
    "df_pca_kmeans.columns.values[-5:] = [\"Component 1\", \"Component 2\", \"Component 3\", \"Component 4\", \"Component 5\"]\n",
    "df_pca_kmeans[\"Cluster\"] = final_k_means.labels_\n",
    "mapping = {0:'first', 1:\"second\", 2:\"third\", 3:\"fourth\", 4:\"fifth\"}\n",
    "df_pca_kmeans[\"Cluster\"] = df_pca_kmeans[\"Cluster\"].map(mapping)\n",
    "\n",
    "df_freq[\"Cluster\"] = final_k_means.labels_\n",
    "df_freq[\"Cluster\"] = df_freq[\"Cluster\"].map(mapping)"
   ]
  },
  {
   "cell_type": "code",
   "execution_count": 63,
   "metadata": {},
   "outputs": [
    {
     "name": "stdout",
     "output_type": "stream",
     "text": [
      "     Action  Adventure    Comedy    Demons     Drama   Fantasy      Game  \\\n",
      "0  0.078431   0.078431  0.088235  0.009804  0.088235  0.049020  0.009804   \n",
      "1  0.106383   0.042553  0.127660  0.000000  0.042553  0.063830  0.000000   \n",
      "2  0.063830   0.021277  0.063830  0.000000  0.106383  0.063830  0.000000   \n",
      "3  0.125000   0.041667  0.125000  0.000000  0.041667  0.083333  0.000000   \n",
      "4  0.000000   0.020833  0.166667  0.000000  0.083333  0.000000  0.041667   \n",
      "\n",
      "      Harem  Historical    Horror  ...  Ecchi  Kids  Space  Shoujo Ai  Yaoi  \\\n",
      "0  0.009804    0.019608  0.019608  ...    0.0   0.0    0.0        0.0   0.0   \n",
      "1  0.021277    0.021277  0.000000  ...    0.0   0.0    0.0        0.0   0.0   \n",
      "2  0.000000    0.021277  0.021277  ...    0.0   0.0    0.0        0.0   0.0   \n",
      "3  0.000000    0.000000  0.000000  ...    0.0   0.0    0.0        0.0   0.0   \n",
      "4  0.000000    0.000000  0.000000  ...    0.0   0.0    0.0        0.0   0.0   \n",
      "\n",
      "   Shounen Ai  Cars  Hentai  Yuri  Cluster  \n",
      "0         0.0   0.0     0.0   0.0   second  \n",
      "1         0.0   0.0     0.0   0.0    third  \n",
      "2         0.0   0.0     0.0   0.0   second  \n",
      "3         0.0   0.0     0.0   0.0    third  \n",
      "4         0.0   0.0     0.0   0.0   fourth  \n",
      "\n",
      "[5 rows x 44 columns]\n"
     ]
    }
   ],
   "source": [
    "#print(df_pca_kmeans.head())\n",
    "print(df_freq.head())\n",
    "third_cluster = df_freq.loc[df_freq[\"Cluster\"] == 'third']"
   ]
  },
  {
   "cell_type": "markdown",
   "metadata": {},
   "source": [
    "### Using KNN to classify new user into a cluster"
   ]
  },
  {
   "cell_type": "code",
   "execution_count": 8,
   "metadata": {},
   "outputs": [],
   "source": [
    "scaler = StandardScaler()\n",
    "scaler.fit(df_pca_kmeans.drop(columns=['Cluster', 'profile', 'favorites_anime'], axis = 1))\n",
    "scaled_features = scaler.transform(df_pca_kmeans.drop(columns=['Cluster', 'profile', 'favorites_anime'], axis = 1))\n",
    "scaled_data = pd.DataFrame(scaled_features, columns = df_pca_kmeans.drop(columns=['Cluster', 'profile', 'favorites_anime'], axis = 1).columns)\n",
    "scaled_data.head()\n",
    "from sklearn.model_selection import train_test_split\n",
    "x = scaled_data\n",
    "y = df_pca_kmeans['Cluster']\n",
    "x_training_data, x_test_data, y_training_data, y_test_data = train_test_split(x, y, test_size = 0.4)\n",
    "from sklearn.neighbors import KNeighborsClassifier\n",
    "import matplotlib.pyplot as plt\n",
    "model = KNeighborsClassifier(n_neighbors = 13)\n",
    "model.fit(x_training_data, y_training_data)\n",
    "#predictions = model.predict(x_test_data)\n",
    "#error_rates = []\n",
    "#for i in np.arange(1, 20):\n",
    " #   new_model = KNeighborsClassifier(n_neighbors = i)\n",
    "  #  new_model.fit(x_training_data, y_training_data)\n",
    "   # new_predictions = new_model.predict(x_test_data)\n",
    "    #error_rates.append(np.mean(new_predictions != y_test_data))\n",
    "%matplotlib inline\n",
    "#plt.plot(error_rates)\n",
    "#from sklearn.metrics import classification_report\n",
    "#from sklearn.metrics import confusion_matrix\n",
    "#print(classification_report(y_test_data, predictions))\n",
    "#print(confusion_matrix(y_test_data, predictions))"
   ]
  },
  {
   "cell_type": "markdown",
   "metadata": {},
   "source": [
    "## Finding Recommendations "
   ]
  },
  {
   "cell_type": "code",
   "execution_count": 50,
   "metadata": {},
   "outputs": [],
   "source": [
    "user1 = ['37510', '38000', '30276', '552', '32998'] #action, shounen\n",
    "user2 = ['1735', '813', '11757', '31964', '32281'] #action, fantasy, shounen, romance\n",
    "user3 = ['5114', '1535', '2167', '22319', '120'] #fantasy, romance, military, mystery, horror, comedy\n",
    "\n",
    "new_df_3 = pd.DataFrame()\n",
    "\n",
    "new_df_3 = df_freq.append(gen_frequencies(user1), ignore_index=True)\n",
    "new_df_3 = new_df_3.append(gen_frequencies(user2), ignore_index=True)\n",
    "new_df_3 = new_df_3.append(gen_frequencies(user3), ignore_index=True)\n",
    "\n",
    "new_df_3 = new_df_3.fillna(0)\n",
    "new_df_3 = new_df_3.drop(columns=['Cluster'], axis=1)\n",
    "new_df_3 = new_df_3.drop(new_df_3.index[:-3])\n",
    "#print(new_df_3)\n",
    "new_users_result = pca.transform(new_df_3)\n",
    "out = list(model.predict(new_users_result))\n",
    "#print(out)\n",
    "\n",
    "cluster_3 = df_freq.loc[df_freq[\"Cluster\"] == 'third']\n",
    "cluster_2 = df_freq.loc[df_freq[\"Cluster\"] == 'second']\n",
    "\n",
    "#user 1:\n",
    "dist1 = cluster_3.drop(\"Cluster\", axis=1).sub(new_df_3.iloc[0], axis=1).pow(2).sum(axis=1).pow(.5)\n",
    "\n",
    "dist2 = cluster_3.drop(\"Cluster\", axis=1).sub(new_df_3.iloc[1], axis=1).pow(2).sum(axis=1).pow(.5)\n",
    "\n",
    "dist3 = cluster_2.drop(\"Cluster\", axis=1).sub(new_df_3.iloc[2], axis=1).pow(2).sum(axis=1).pow(.5)\n",
    "\n",
    "neighbors_1 = dist1.nsmallest(5).index\n",
    "neighbors_2 = dist2.nsmallest(5).index\n",
    "neighbors_3 = dist3.nsmallest(5).index"
   ]
  },
  {
   "cell_type": "code",
   "execution_count": 62,
   "metadata": {},
   "outputs": [
    {
     "name": "stdout",
     "output_type": "stream",
     "text": [
      "User 1's recommendations: ['Mononoke Hime', 'Fate/Zero 2nd Season', 'Mob Psycho 100', 'Gintama Movie 2: Kanketsu-hen - Yorozuya yo Eien Nare', 'Gintama°', 'One Piece', 'Baccano!', 'Tengen Toppa Gurren Lagann', 'Fate/Zero', 'Toradora!', 'Yuu☆Yuu☆Hakusho', 'Hunter x Hunter (2011)', 'Code Geass: Hangyaku no Lelouch', 'Cowboy Bebop', 'Black Lagoon', 'Gintama', 'Durarara!!', 'Kaze Tachinu', 'Noragami', 'Black Lagoon: The Second Barrage', 'Samurai Champloo', 'Baccano! Specials', 'Gankutsuou'] \n",
      "\n",
      "User 2's recommendations: ['Hunter x Hunter (2011)', 'Shingeki no Kyojin', 'Naruto', 'Akatsuki no Yona', 'Haikyuu!!', 'Ore Monogatari!!', 'Ansatsu Kyoushitsu 2nd Season', 'One Punch Man', 'One Piece', 'Shokugeki no Souma', 'No Game No Life', 'Boruto: Naruto Next Generations', 'Fairy Tail', 'Toradora!', 'Accel World', 'Bleach', 'Fairy Tail Movie 2: Dragon Cry', 'Koukyoushihen Eureka Seven', 'Soul Eater', 'Medaka Box'] \n",
      "\n",
      "User 3's recommendations: ['Clannad: After Story', 'Durarara!!', 'Mahou Shoujo Madoka★Magica', 'ef: A Tale of Memories.', 'Ano Hi Mita Hana no Namae wo Bokutachi wa Mada Shiranai.', 'Re:Zero kara Hajimeru Isekai Seikatsu', 'Fate/Zero', 'Kara no Kyoukai 5: Mujun Rasen', 'Shiki', 'Kokoro Connect', 'Hunter x Hunter (2011)', 'Chuunibyou demo Koi ga Shitai!', 'Shinsekai yori', 'Higurashi no Naku Koro ni', 'Akira', 'Nana', 'Sakura-sou no Pet na Kanojo', 'Noragami Aragoto', 'Detective Conan (TV)', 'Azumanga Daioh', 'Sankarea', 'Colorful (Movie)', 'Kiseijuu: Sei no Kakuritsu', 'Angel Beats!', 'Chuunibyou demo Koi ga Shitai! Ren', 'Beelzebub', 'JoJo no Kimyou na Bouken (TV)', 'Inuyashiki', 'Kenpuu Denki Berserk', 'Mob Psycho 100', 'Prison School', 'Saiki Kusuo no Ψ-nan', 'Shimoneta to Iu Gainen ga Sonzai Shinai Taikutsu na Sekai', 'Elfen Lied', 'Gosick'] \n",
      "\n"
     ]
    }
   ],
   "source": [
    "#user 1 recommendations:\n",
    "recommendation_1 = []\n",
    "for user in neighbors_1:\n",
    "    current_favorites = profiles_df.iloc[user][\"favorites_anime\"].strip(\"][\").replace(\"'\", \"\").split(\", \")\n",
    "    for i in current_favorites:\n",
    "        if (i not in recommendation_1) and (i not in user1):\n",
    "            recommendation_1.append(i)\n",
    "    \n",
    "for i in range(0, len(recommendation_1)):\n",
    "    recommendation_1[i] = anime_name(recommendation_1[i])\n",
    "    \n",
    "\n",
    "recommendation_2 = []\n",
    "for user in neighbors_2:\n",
    "    current_favorites = profiles_df.iloc[user][\"favorites_anime\"].strip(\"][\").replace(\"'\", \"\").split(\", \")\n",
    "    for i in current_favorites:\n",
    "        if (i not in recommendation_2) and (i not in user2):\n",
    "            recommendation_2.append(i)\n",
    "    \n",
    "for i in range(0, len(recommendation_2)):\n",
    "    recommendation_2[i] = anime_name(recommendation_2[i])\n",
    "    \n",
    "recommendation_3 = []\n",
    "for user in neighbors_3:\n",
    "    current_favorites = profiles_df.iloc[user][\"favorites_anime\"].strip(\"][\").replace(\"'\", \"\").split(\", \")\n",
    "    for i in current_favorites:\n",
    "        if (i not in recommendation_3) and (i not in user3):\n",
    "            recommendation_3.append(i)\n",
    "    \n",
    "for i in range(0, len(recommendation_3)):\n",
    "    recommendation_3[i] = anime_name(recommendation_3[i])\n",
    "    \n",
    "print(\"User 1's recommendations:\", recommendation_1, \"\\n\")\n",
    "print(\"User 2's recommendations:\", recommendation_2, \"\\n\")\n",
    "print(\"User 3's recommendations:\", recommendation_3, \"\\n\")"
   ]
  }
 ],
 "metadata": {
  "kernelspec": {
   "display_name": "Python 3",
   "language": "python",
   "name": "python3"
  },
  "language_info": {
   "codemirror_mode": {
    "name": "ipython",
    "version": 3
   },
   "file_extension": ".py",
   "mimetype": "text/x-python",
   "name": "python",
   "nbconvert_exporter": "python",
   "pygments_lexer": "ipython3",
   "version": "3.7.4"
  }
 },
 "nbformat": 4,
 "nbformat_minor": 4
}
