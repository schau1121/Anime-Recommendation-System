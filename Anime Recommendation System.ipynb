{
 "cells": [
  {
   "cell_type": "markdown",
   "metadata": {},
   "source": [
    "# Anime Recommendation System\n",
    "#### Alejandra Avitia-Davila, Crystal Feng, Simon Chau, and Tyler Lafond"
   ]
  },
  {
   "cell_type": "code",
   "execution_count": 94,
   "metadata": {},
   "outputs": [
    {
     "name": "stdout",
     "output_type": "stream",
     "text": [
      "     uid                             title  \\\n",
      "0  28891           Haikyuu!! Second Season   \n",
      "1  23273           Shigatsu wa Kimi no Uso   \n",
      "2  34599                     Made in Abyss   \n",
      "3   5114  Fullmetal Alchemist: Brotherhood   \n",
      "4  31758  Kizumonogatari III: Reiketsu-hen   \n",
      "\n",
      "                                               genre  popularity  ranked  \\\n",
      "0  ['Comedy', 'Sports', 'Drama', 'School', 'Shoun...         141    25.0   \n",
      "1  ['Drama', 'Music', 'Romance', 'School', 'Shoun...          28    24.0   \n",
      "2  ['Sci-Fi', 'Adventure', 'Mystery', 'Drama', 'F...          98    23.0   \n",
      "3  ['Action', 'Military', 'Adventure', 'Comedy', ...           4     1.0   \n",
      "4   ['Action', 'Mystery', 'Supernatural', 'Vampire']         502    22.0   \n",
      "\n",
      "   score  \n",
      "0   8.82  \n",
      "1   8.83  \n",
      "2   8.83  \n",
      "3   9.23  \n",
      "4   8.83  \n",
      "           profile                                    favorites_anime\n",
      "0   DesolatePsyche  ['33352', '25013', '5530', '33674', '1482', '2...\n",
      "1        baekbeans  ['11061', '31964', '853', '20583', '918', '925...\n",
      "2             skrn  ['918', '2904', '11741', '17074', '23273', '32...\n",
      "3     edgewalker00           ['5680', '849', '2904', '3588', '37349']\n",
      "4  aManOfCulture99  ['4181', '7791', '9617', '5680', '2167', '4382...\n",
      "47902\n"
     ]
    }
   ],
   "source": [
    "import pandas as pd \n",
    "import numpy as np \n",
    "import matplotlib.pyplot as plt\n",
    "from sklearn.model_selection import train_test_split\n",
    "from sklearn.neighbors import KNeighborsClassifier\n",
    "from sklearn.metrics import confusion_matrix\n",
    "from sklearn.decomposition import PCA\n",
    "\n",
    "animes_df = pd.read_csv(\"animes.csv\")\n",
    "animes_df = animes_df.drop(columns=['synopsis', 'aired', 'episodes', 'members', 'img_url', 'link']).drop_duplicates()\n",
    "profiles_df = pd.read_csv(\"profiles.csv\")\n",
    "profiles_df = profiles_df.drop(columns = ['gender', 'birthday', 'link']).drop_duplicates()\n",
    "print(animes_df.head())\n",
    "print(profiles_df.head())\n",
    "print(len(profiles_df.index))\n",
    "#profiles_df_2 = profiles_df.head(5)"
   ]
  },
  {
   "cell_type": "markdown",
   "metadata": {},
   "source": [
    "***Defining functions:***\n",
    "- genre_list(anime_uid)\n",
    "- anime_list(profile)"
   ]
  },
  {
   "cell_type": "code",
   "execution_count": 92,
   "metadata": {},
   "outputs": [],
   "source": [
    "def genre_list(anime_uid):\n",
    "    if(anime_uid == \"\"): return []\n",
    "    anime_uid = int(anime_uid)\n",
    "    if(len(animes_df.loc[animes_df[\"uid\"] == anime_uid]) == 0): return []\n",
    "    raw_genres = animes_df.loc[animes_df[\"uid\"] == anime_uid][\"genre\"].array[0]\n",
    "    genres = raw_genres.strip(\"][\").replace(\"'\", \"\").split(\", \")\n",
    "    for genre in genres:\n",
    "        genre = genre.replace(\" \", \"\")\n",
    "    return genres\n",
    "\n",
    "#print(genre_list(33352))\n",
    "\n",
    "def anime_list(profile):\n",
    "    if(profile > len(profiles_df.index)) : return []\n",
    "    raw_favorites = profiles_df.iloc[profile][\"favorites_anime\"]\n",
    "    favorites = raw_favorites.strip(\"][\").replace(\"'\", \"\").split(\", \")\n",
    "    for anime in favorites:\n",
    "        anime = anime.replace(\"'\", \"\")\n",
    "    return favorites\n",
    "    \n",
    "#print(anime_list(0))"
   ]
  },
  {
   "cell_type": "markdown",
   "metadata": {},
   "source": [
    "### Computing frequencies for profiles"
   ]
  },
  {
   "cell_type": "code",
   "execution_count": 93,
   "metadata": {},
   "outputs": [],
   "source": [
    "#commented out and saved to csv since this process takes a while\n",
    "\n",
    "#df_profile_freq = pd.DataFrame() #index is same as profile_df_index\n",
    "#for profile in profiles_df.index:\n",
    "#    favorites = anime_list(profile)\n",
    "#    genres = []\n",
    "#    for anime in favorites:\n",
    "#        genres += genre_list(anime)\n",
    "#    genre_series = pd.Series(genres)\n",
    "#    num_genres = len(genres)\n",
    "#    genre_frequencies = genre_series.value_counts() / num_genres\n",
    "#    df_profile_freq = df_profile_freq.append(genre_frequencies, ignore_index=True)\n",
    "#df_profile_freq = df_profile_freq.drop(columns=[\"\"])\n",
    "#df_profile_freq = df_profile_freq.fillna(0)\n",
    "#df_profile_freq.to_csv(\"profile_genres.csv\", index=False)"
   ]
  },
  {
   "cell_type": "code",
   "execution_count": null,
   "metadata": {},
   "outputs": [],
   "source": []
  }
 ],
 "metadata": {
  "kernelspec": {
   "display_name": "Python 3",
   "language": "python",
   "name": "python3"
  },
  "language_info": {
   "codemirror_mode": {
    "name": "ipython",
    "version": 3
   },
   "file_extension": ".py",
   "mimetype": "text/x-python",
   "name": "python",
   "nbconvert_exporter": "python",
   "pygments_lexer": "ipython3",
   "version": "3.7.4"
  }
 },
 "nbformat": 4,
 "nbformat_minor": 4
}
