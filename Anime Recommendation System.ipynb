{
 "cells": [
  {
   "cell_type": "markdown",
   "metadata": {},
   "source": [
    "# Anime Recommendation System\n",
    "#### Alejandra Avitia-Davila, Crystal Feng, Simon Chau, and Tyler Lafond"
   ]
  },
  {
   "cell_type": "code",
   "execution_count": 129,
   "metadata": {},
   "outputs": [
    {
     "name": "stdout",
     "output_type": "stream",
     "text": [
      "     uid                             title  \\\n",
      "0  28891           Haikyuu!! Second Season   \n",
      "1  23273           Shigatsu wa Kimi no Uso   \n",
      "2  34599                     Made in Abyss   \n",
      "3   5114  Fullmetal Alchemist: Brotherhood   \n",
      "4  31758  Kizumonogatari III: Reiketsu-hen   \n",
      "\n",
      "                                               genre  popularity  ranked  \\\n",
      "0  ['Comedy', 'Sports', 'Drama', 'School', 'Shoun...         141    25.0   \n",
      "1  ['Drama', 'Music', 'Romance', 'School', 'Shoun...          28    24.0   \n",
      "2  ['Sci-Fi', 'Adventure', 'Mystery', 'Drama', 'F...          98    23.0   \n",
      "3  ['Action', 'Military', 'Adventure', 'Comedy', ...           4     1.0   \n",
      "4   ['Action', 'Mystery', 'Supernatural', 'Vampire']         502    22.0   \n",
      "\n",
      "   score  \n",
      "0   8.82  \n",
      "1   8.83  \n",
      "2   8.83  \n",
      "3   9.23  \n",
      "4   8.83  \n",
      "           profile                                    favorites_anime\n",
      "0   DesolatePsyche  ['33352', '25013', '5530', '33674', '1482', '2...\n",
      "1        baekbeans  ['11061', '31964', '853', '20583', '918', '925...\n",
      "2             skrn  ['918', '2904', '11741', '17074', '23273', '32...\n",
      "3     edgewalker00           ['5680', '849', '2904', '3588', '37349']\n",
      "4  aManOfCulture99  ['4181', '7791', '9617', '5680', '2167', '4382...\n",
      "47902\n"
     ]
    }
   ],
   "source": [
    "import pandas as pd \n",
    "import numpy as np \n",
    "import matplotlib.pyplot as plt\n",
    "from sklearn.model_selection import train_test_split\n",
    "from sklearn.neighbors import KNeighborsClassifier\n",
    "from sklearn.cluster import KMeans\n",
    "from sklearn.metrics import confusion_matrix\n",
    "from sklearn.decomposition import PCA\n",
    "\n",
    "animes_df = pd.read_csv(\"animes.csv\")\n",
    "animes_df = animes_df.drop(columns=['synopsis', 'aired', 'episodes', 'members', 'img_url', 'link']).drop_duplicates()\n",
    "profiles_df = pd.read_csv(\"profiles.csv\")\n",
    "profiles_df = profiles_df.drop(columns = ['gender', 'birthday', 'link']).drop_duplicates()\n",
    "print(animes_df.head())\n",
    "print(profiles_df.head())\n",
    "print(len(profiles_df.index))\n",
    "#profiles_df_2 = profiles_df.head(5)"
   ]
  },
  {
   "cell_type": "markdown",
   "metadata": {},
   "source": [
    "***Defining functions:***\n",
    "- genre_list(anime_uid)\n",
    "- anime_list(profile)"
   ]
  },
  {
   "cell_type": "code",
   "execution_count": 147,
   "metadata": {},
   "outputs": [
    {
     "name": "stdout",
     "output_type": "stream",
     "text": [
      "Haikyuu!! Second Season\n"
     ]
    }
   ],
   "source": [
    "def genre_list(anime_uid):\n",
    "    if(anime_uid == \"\"): return []\n",
    "    anime_uid = int(anime_uid)\n",
    "    if(len(animes_df.loc[animes_df[\"uid\"] == anime_uid]) == 0): return []\n",
    "    raw_genres = animes_df.loc[animes_df[\"uid\"] == anime_uid][\"genre\"].array[0]\n",
    "    genres = raw_genres.strip(\"][\").replace(\"'\", \"\").split(\", \")\n",
    "    for genre in genres:\n",
    "        genre = genre.replace(\" \", \"\")\n",
    "    return genres\n",
    "\n",
    "#print(genre_list(33352))\n",
    "\n",
    "def anime_list(profile):\n",
    "    if(profile > len(profiles_df.index)) : return []\n",
    "    raw_favorites = profiles_df.iloc[profile][\"favorites_anime\"]\n",
    "    favorites = raw_favorites.strip(\"][\").replace(\"'\", \"\").split(\", \")\n",
    "    for anime in favorites:\n",
    "        anime = anime.replace(\"'\", \"\")\n",
    "    return favorites\n",
    "    \n",
    "#print(anime_list(0))\n",
    "\n",
    "def anime_name(anime_uid):\n",
    "    if(anime_uid == \"\"): return \"\"\n",
    "    anime_uid = int(anime_uid)\n",
    "    if(len(animes_df.loc[animes_df[\"uid\"] == anime_uid]) == 0): return \"\"\n",
    "    return animes_df.loc[animes_df[\"uid\"] == anime_uid][\"title\"].array[0]\n",
    "\n",
    "#print(anime_name(28891))"
   ]
  },
  {
   "cell_type": "markdown",
   "metadata": {},
   "source": [
    "### Computing frequencies for profiles"
   ]
  },
  {
   "cell_type": "code",
   "execution_count": 93,
   "metadata": {},
   "outputs": [],
   "source": [
    "#commented out and saved to csv since this process takes a while\n",
    "\n",
    "#df_profile_freq = pd.DataFrame() #index is same as profile_df_index\n",
    "#for profile in profiles_df.index:\n",
    "#    favorites = anime_list(profile)\n",
    "#    genres = []\n",
    "#    for anime in favorites:\n",
    "#        genres += genre_list(anime)\n",
    "#    genre_series = pd.Series(genres)\n",
    "#    num_genres = len(genres)\n",
    "#    genre_frequencies = genre_series.value_counts() / num_genres\n",
    "#    df_profile_freq = df_profile_freq.append(genre_frequencies, ignore_index=True)\n",
    "#df_profile_freq = df_profile_freq.drop(columns=[\"\"])\n",
    "#df_profile_freq = df_profile_freq.fillna(0)\n",
    "#df_profile_freq.to_csv(\"profile_genres.csv\", index=False)"
   ]
  },
  {
   "cell_type": "markdown",
   "metadata": {},
   "source": [
    "### PCA Decomposition on profile genre frequencies"
   ]
  },
  {
   "cell_type": "code",
   "execution_count": 123,
   "metadata": {},
   "outputs": [
    {
     "name": "stdout",
     "output_type": "stream",
     "text": [
      "Explained variation per principal component: [0.30673005 0.11921416 0.087338   0.05529435 0.05119795]\n",
      "Cumulative variance explained by 5 principal components:  0.6197745164444133 %\n"
     ]
    }
   ],
   "source": [
    "df_freq = pd.read_csv(\"profile_genres.csv\")\n",
    "pca = PCA(n_components=5)\n",
    "pca_result = pca.fit_transform(df_freq)\n",
    "print(\"Explained variation per principal component:\", pca.explained_variance_ratio_)\n",
    "cumulative_variance = sum(pca.explained_variance_ratio_) \n",
    "print('Cumulative variance explained by 5 principal components: ', cumulative_variance, \"%\")"
   ]
  },
  {
   "cell_type": "markdown",
   "metadata": {},
   "source": [
    "### Using Elbow Method with WCSS to determine optimal k-value "
   ]
  },
  {
   "cell_type": "code",
   "execution_count": 132,
   "metadata": {},
   "outputs": [
    {
     "data": {
      "image/png": "[encoded data removed]",
      "text/plain": [
       "<Figure size 720x720 with 1 Axes>"
      ]
     },
     "metadata": {
      "needs_background": "light"
     },
     "output_type": "display_data"
    }
   ],
   "source": [
    "wcss = []\n",
    "for i in range(1, 26):\n",
    "    k_means = KMeans(n_clusters=i, init='k-means++', random_state=20)\n",
    "    k_means.fit(pca_result)\n",
    "    wcss.append(k_means.inertia_)\n",
    "\n",
    "    \n",
    "plt.figure(figsize=(10,10))\n",
    "plt.plot(range(1,26), wcss, marker=\"o\", linestyle='--')\n",
    "plt.xlabel(\"Number of clusters\")\n",
    "plt.ylabel(\"WCSS\")\n",
    "plt.title(\"WCSS vs K\")\n",
    "plt.show()"
   ]
  },
  {
   "cell_type": "code",
   "execution_count": 141,
   "metadata": {},
   "outputs": [],
   "source": [
    "optimal_k = 5\n",
    "final_k_means = KMeans(n_clusters = optimal_k, init = \"k-means++\", random_state=20)\n",
    "final_k_means.fit(pca_result)\n",
    "df_pca_kmeans = pd.concat([profiles_df.reset_index(drop=True), pd.DataFrame(pca_result)], axis=1)\n",
    "df_pca_kmeans.columns.values[-5:] = [\"Component 1\", \"Component 2\", \"Component 3\", \"Component 4\", \"Component 5\"]\n",
    "df_pca_kmeans[\"Cluster\"] = final_k_means.labels_\n",
    "mapping = {0:'first', 1:\"second\", 2:\"third\", 3:\"fourth\", 4:\"fifth\"}\n",
    "df_pca_kmeans[\"Cluster\"] = df_pca_kmeans[\"Cluster\"].map(mapping)\n",
    "\n",
    "df_freq[\"Cluster\"] = final_k_means.labels_"
   ]
  },
  {
   "cell_type": "code",
   "execution_count": 143,
   "metadata": {},
   "outputs": [
    {
     "name": "stdout",
     "output_type": "stream",
     "text": [
      "           profile                                    favorites_anime  \\\n",
      "0   DesolatePsyche  ['33352', '25013', '5530', '33674', '1482', '2...   \n",
      "1        baekbeans  ['11061', '31964', '853', '20583', '918', '925...   \n",
      "2             skrn  ['918', '2904', '11741', '17074', '23273', '32...   \n",
      "3     edgewalker00           ['5680', '849', '2904', '3588', '37349']   \n",
      "4  aManOfCulture99  ['4181', '7791', '9617', '5680', '2167', '4382...   \n",
      "\n",
      "   Component 1  Component 2  Component 3  Component 4  Component 5 Cluster  \n",
      "0     0.099536    -0.011276     0.003781    -0.045363     0.013326  second  \n",
      "1     0.106585     0.022280    -0.053599     0.042944    -0.028786   third  \n",
      "2     0.084845    -0.009300     0.050995    -0.025231     0.014180  second  \n",
      "3     0.109047     0.016547    -0.039408     0.057750    -0.029771   third  \n",
      "4     0.093814    -0.175802    -0.006662     0.030903    -0.051450  fourth  \n"
     ]
    }
   ],
   "source": [
    "print(df_pca_kmeans.head())\n",
    "#print(df_freq.head())"
   ]
  },
  {
   "cell_type": "markdown",
   "metadata": {},
   "source": [
    "### Using KNN to classify new user into a cluster\n",
    "Here we need to:\n",
    "- implement and train a KNN model with the df_freq data\n",
    "   - I feel like df_freq should be the data we train on since PCA reduction loses around 40% of our data\n",
    "- evaluate our KNN model\n",
    "- compute genre frequencies from a new user's list of animes\n",
    "- classify new user into a cluster\n",
    "\n",
    "https://www.freecodecamp.org/news/how-to-build-and-train-k-nearest-neighbors-ml-models-in-python/"
   ]
  },
  {
   "cell_type": "code",
   "execution_count": null,
   "metadata": {},
   "outputs": [],
   "source": []
  },
  {
   "cell_type": "markdown",
   "metadata": {},
   "source": [
    "### Finding Recommendations \n",
    "Here we need to:\n",
    "- find all users in the same cluster as the new one (possible neighbors)\n",
    "- compute distances between each data point and the current one\n",
    "    - https://stackoverflow.com/questions/64374482/how-to-calculate-distance-for-every-row-in-a-pandas-dataframe-from-a-single-poin\n",
    "- find n-smallest distances with their indices\n",
    "    - https://pandas.pydata.org/docs/reference/api/pandas.DataFrame.nsmallest.html\n",
    "- find a favorites list of profiles at those indices\n",
    "- remove any entries which are from the new user's favorites list and print the names of those animes"
   ]
  },
  {
   "cell_type": "code",
   "execution_count": null,
   "metadata": {},
   "outputs": [],
   "source": []
  }
 ],
 "metadata": {
  "kernelspec": {
   "display_name": "Python 3",
   "language": "python",
   "name": "python3"
  },
  "language_info": {
   "codemirror_mode": {
    "name": "ipython",
    "version": 3
   },
   "file_extension": ".py",
   "mimetype": "text/x-python",
   "name": "python",
   "nbconvert_exporter": "python",
   "pygments_lexer": "ipython3",
   "version": "3.7.4"
  }
 },
 "nbformat": 4,
 "nbformat_minor": 4
}
